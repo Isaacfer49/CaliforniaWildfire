{
 "cells": [
  {
   "cell_type": "code",
   "execution_count": 1,
   "metadata": {},
   "outputs": [],
   "source": [
    "import pandas as pd"
   ]
  },
  {
   "cell_type": "code",
   "execution_count": 2,
   "metadata": {},
   "outputs": [
    {
     "name": "stderr",
     "output_type": "stream",
     "text": [
      "/var/folders/mz/9cypvzdn37g8034zbwdlq4g80000gn/T/ipykernel_52468/2680289039.py:1: DtypeWarning: Columns (13,37,38) have mixed types. Specify dtype option on import or set low_memory=False.\n",
      "  cali = pd.read_csv('/Users/isaacfernandez/CaliWildfire/archive (3)/data.csv')\n"
     ]
    }
   ],
   "source": [
    "cali = pd.read_csv('/Users/isaacfernandez/CaliWildfire/archive (3)/data.csv')"
   ]
  },
  {
   "cell_type": "code",
   "execution_count": 3,
   "metadata": {},
   "outputs": [
    {
     "data": {
      "text/plain": [
       "(100230, 47)"
      ]
     },
     "execution_count": 3,
     "metadata": {},
     "output_type": "execute_result"
    }
   ],
   "source": [
    "cali.shape"
   ]
  },
  {
   "cell_type": "code",
   "execution_count": 8,
   "metadata": {},
   "outputs": [],
   "source": [
    "cali[['County','* Damage']].value_counts().to_clipboard()"
   ]
  },
  {
   "cell_type": "code",
   "execution_count": 9,
   "metadata": {},
   "outputs": [
    {
     "data": {
      "text/plain": [
       "County\n",
       "Butte              28715\n",
       "Sonoma             11721\n",
       "Napa                6279\n",
       "El Dorado           4639\n",
       "Santa Cruz          4637\n",
       "Shasta              3781\n",
       "Los Angeles         3770\n",
       "Plumas              3585\n",
       "Ventura             3423\n",
       "Lake                3140\n",
       "Fresno              2917\n",
       "Orange              2510\n",
       "Solano              2377\n",
       "Siskiyou            1810\n",
       "Kern                1476\n",
       "Riverside           1226\n",
       "Mariposa            1139\n",
       "Tehama              1119\n",
       "Calaveras           1090\n",
       "Tulare              1020\n",
       "Lassen               964\n",
       "Mendocino            937\n",
       "San Diego            933\n",
       "San Bernardino       922\n",
       "Madera               740\n",
       "Monterey             699\n",
       "Placer               606\n",
       "Santa Clara          589\n",
       "Trinity              572\n",
       "Alpine               415\n",
       "Santa Barbara        362\n",
       "Nevada               344\n",
       "Yuba                 324\n",
       "Yolo                 278\n",
       "Stanislaus           224\n",
       "San Mateo            207\n",
       "Alameda              120\n",
       "San Joaquin          104\n",
       "San Luis Obispo      103\n",
       "Amador                79\n",
       "Mono                  64\n",
       "Glenn                 52\n",
       "Colusa                52\n",
       "Tuolumne              42\n",
       "San Benito            42\n",
       "Inyo                  20\n",
       "Humboldt              19\n",
       "Sacramento            10\n",
       "Contra Costa           2\n",
       "Kings                  1\n",
       "Name: count, dtype: int64"
      ]
     },
     "execution_count": 9,
     "metadata": {},
     "output_type": "execute_result"
    }
   ],
   "source": [
    "cali['County'].value_counts()"
   ]
  },
  {
   "cell_type": "code",
   "execution_count": 12,
   "metadata": {},
   "outputs": [
    {
     "data": {
      "text/plain": [
       "97098     9/9/2024 12:00:00 AM\n",
       "97224     9/9/2024 12:00:00 AM\n",
       "97245     9/9/2024 12:00:00 AM\n",
       "97242     9/9/2024 12:00:00 AM\n",
       "97239     9/9/2024 12:00:00 AM\n",
       "                 ...          \n",
       "89682    1/21/2022 12:00:00 AM\n",
       "89681    1/21/2022 12:00:00 AM\n",
       "89680    1/21/2022 12:00:00 AM\n",
       "89335    1/21/2022 12:00:00 AM\n",
       "89685    1/21/2022 12:00:00 AM\n",
       "Name: Incident Start Date, Length: 100230, dtype: object"
      ]
     },
     "execution_count": 12,
     "metadata": {},
     "output_type": "execute_result"
    }
   ],
   "source": [
    "cali['Incident Start Date'].sort_values(ascending=False)"
   ]
  },
  {
   "cell_type": "code",
   "execution_count": null,
   "metadata": {},
   "outputs": [],
   "source": []
  }
 ],
 "metadata": {
  "kernelspec": {
   "display_name": ".venv",
   "language": "python",
   "name": "python3"
  },
  "language_info": {
   "codemirror_mode": {
    "name": "ipython",
    "version": 3
   },
   "file_extension": ".py",
   "mimetype": "text/x-python",
   "name": "python",
   "nbconvert_exporter": "python",
   "pygments_lexer": "ipython3",
   "version": "3.11.11"
  }
 },
 "nbformat": 4,
 "nbformat_minor": 2
}
